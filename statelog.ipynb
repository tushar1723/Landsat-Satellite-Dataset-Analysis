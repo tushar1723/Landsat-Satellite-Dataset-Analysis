{
 "cells": [
  {
   "cell_type": "code",
   "execution_count": 70,
   "id": "9f1a4045",
   "metadata": {},
   "outputs": [],
   "source": [
    "import pandas as pd\n",
    "import numpy as np\n",
    "import matplotlib.pyplot as plt\n",
    "from sklearn.model_selection import train_test_split\n",
    "from sklearn.svm import SVC\n",
    "import seaborn as sns\n",
    "from sklearn.metrics import  classification_report,confusion_matrix\n",
    "statlogdata = pd.read_csv(r'C:\\Users\\Tusha\\Downloads\\statlog.csv')"
   ]
  },
  {
   "cell_type": "code",
   "execution_count": 71,
   "id": "e2be48b9",
   "metadata": {},
   "outputs": [
    {
     "name": "stdout",
     "output_type": "stream",
     "text": [
      "37\n",
      "['Column1', 'Column2', 'Column3', 'Column4', 'Column5', 'Column6', 'Column7', 'Column8', 'Column9', 'Column10', 'Column11', 'Column12', 'Column13', 'Column14', 'Column15', 'Column16', 'Column17', 'Column18', 'Column19', 'Column20', 'Column21', 'Column22', 'Column23', 'Column24', 'Column25', 'Column26', 'Column27', 'Column28', 'Column29', 'Column30', 'Column31', 'Column32', 'Column33', 'Column34', 'Column35', 'Column36']\n"
     ]
    }
   ],
   "source": [
    "features = statlogdata.columns\n",
    "names = []\n",
    "for x in range(36):\n",
    " names.append(features[x])\n",
    "\n",
    "print(features.size)\n",
    "print(names)"
   ]
  },
  {
   "cell_type": "code",
   "execution_count": 72,
   "id": "1ad6cfd9",
   "metadata": {},
   "outputs": [
    {
     "data": {
      "text/plain": [
       "(6435, 36)"
      ]
     },
     "execution_count": 72,
     "metadata": {},
     "output_type": "execute_result"
    }
   ],
   "source": [
    "X = statlogdata.drop('Class',axis=1)\n",
    "y = statlogdata['Class']\n",
    "X.shape"
   ]
  },
  {
   "cell_type": "code",
   "execution_count": 69,
   "id": "4554f56c",
   "metadata": {},
   "outputs": [],
   "source": [
    "X_train,X_test,y_train,y_test = train_test_split(X,y,test_size=0.3)"
   ]
  },
  {
   "cell_type": "code",
   "execution_count": 74,
   "id": "8d6ea1c6",
   "metadata": {},
   "outputs": [],
   "source": [
    "#Support Vector Machine\n",
    "svm = SVC()"
   ]
  },
  {
   "cell_type": "code",
   "execution_count": 73,
   "id": "722296af",
   "metadata": {},
   "outputs": [
    {
     "data": {
      "text/plain": [
       "SVC()"
      ]
     },
     "execution_count": 73,
     "metadata": {},
     "output_type": "execute_result"
    }
   ],
   "source": [
    "svm.fit(X_train,y_train)"
   ]
  },
  {
   "cell_type": "code",
   "execution_count": 23,
   "id": "0e036d08",
   "metadata": {},
   "outputs": [
    {
     "name": "stdout",
     "output_type": "stream",
     "text": [
      "              precision    recall  f1-score   support\n",
      "\n",
      "           1       0.95      0.99      0.97       470\n",
      "           2       0.99      0.97      0.98       215\n",
      "           3       0.90      0.94      0.92       427\n",
      "           4       0.67      0.53      0.59       191\n",
      "           5       0.91      0.84      0.88       205\n",
      "           7       0.85      0.88      0.87       423\n",
      "\n",
      "    accuracy                           0.89      1931\n",
      "   macro avg       0.88      0.86      0.87      1931\n",
      "weighted avg       0.89      0.89      0.89      1931\n",
      "\n"
     ]
    }
   ],
   "source": [
    "y_pred = svm.predict(X_test)\n",
    "print(classification_report(y_test,y_pred))"
   ]
  },
  {
   "cell_type": "code",
   "execution_count": 76,
   "id": "24a0c7c3",
   "metadata": {},
   "outputs": [
    {
     "name": "stdout",
     "output_type": "stream",
     "text": [
      "(644,)\n",
      "(5791,)\n",
      "(644,)\n",
      "(5791,)\n",
      "(644,)\n",
      "(5791,)\n",
      "(644,)\n",
      "(5791,)\n",
      "(644,)\n",
      "(5791,)\n",
      "(643,)\n",
      "(5792,)\n",
      "(643,)\n",
      "(5792,)\n",
      "(643,)\n",
      "(5792,)\n",
      "(643,)\n",
      "(5792,)\n",
      "(643,)\n",
      "(5792,)\n",
      "0.8797315572384882\n"
     ]
    }
   ],
   "source": [
    "#Kfold Validation\n",
    "scores=[]\n",
    "acc = []\n",
    "# print(X.shape)\n",
    "# print(Y.shape)\n",
    "from sklearn.model_selection import KFold\n",
    "from sklearn.metrics import accuracy_score\n",
    "from sklearn.model_selection import cross_val_score\n",
    "kf = KFold(n_splits=10,random_state=None,shuffle=False)\n",
    "for train_index,test_index in kf.split(X):\n",
    "    print(test_index.shape)\n",
    "    print(train_index.shape)\n",
    "    X_train,X_test,y_train,y_test=X.iloc[train_index],X.iloc[test_index],y.iloc[train_index],y.iloc[test_index]\n",
    "    svm.fit(X_train,y_train)\n",
    "    y_predict = svm.predict(X_test)\n",
    "    acc.append(accuracy_score(y_test,y_predict))\n",
    "    scores.append(svm.score(X_test,y_test))\n",
    "\n",
    "print(np.mean(acc))\n",
    "cross_val_score(svm,X,y,cv=10)\n",
    "#decision Tree \n",
    "from sklearn import tree"
   ]
  },
  {
   "cell_type": "code",
   "execution_count": 25,
   "id": "2fecceac",
   "metadata": {},
   "outputs": [],
   "source": [
    "clf = tree.DecisionTreeClassifier()"
   ]
  },
  {
   "cell_type": "code",
   "execution_count": 26,
   "id": "d4d892c2",
   "metadata": {},
   "outputs": [],
   "source": [
    "clf = clf.fit(X_train, y_train)"
   ]
  },
  {
   "cell_type": "code",
   "execution_count": 27,
   "id": "c32140ff",
   "metadata": {
    "scrolled": true
   },
   "outputs": [
    {
     "name": "stdout",
     "output_type": "stream",
     "text": [
      "              precision    recall  f1-score   support\n",
      "\n",
      "           1       0.94      0.95      0.94       470\n",
      "           2       0.98      0.93      0.95       215\n",
      "           3       0.90      0.84      0.87       427\n",
      "           4       0.58      0.57      0.58       191\n",
      "           5       0.80      0.80      0.80       205\n",
      "           7       0.81      0.88      0.85       423\n",
      "\n",
      "    accuracy                           0.86      1931\n",
      "   macro avg       0.83      0.83      0.83      1931\n",
      "weighted avg       0.86      0.86      0.86      1931\n",
      "\n"
     ]
    }
   ],
   "source": [
    "y_pred = clf.predict(X_test)\n",
    "print(classification_report(y_test,y_pred))X, y = make_classification(n_samples=1000, n_features=4,n_informative=2, n_redundant=0,random_state=0, shuffle=False)"
   ]
  },
  {
   "cell_type": "code",
   "execution_count": 31,
   "id": "9665e457",
   "metadata": {},
   "outputs": [],
   "source": [
    "#RandomForestClassifier\n",
    "from sklearn.ensemble import RandomForestClassifier\n",
    "from sklearn.datasets import make_classification"
   ]
  },
  {
   "cell_type": "code",
   "execution_count": 39,
   "id": "85ae737d",
   "metadata": {},
   "outputs": [],
   "source": [
    "clf = RandomForestClassifier(max_depth=2, random_state=1)\n",
    "clf=clf.fit(X_train, y_train)"
   ]
  },
  {
   "cell_type": "code",
   "execution_count": 46,
   "id": "c501376b",
   "metadata": {},
   "outputs": [
    {
     "name": "stdout",
     "output_type": "stream",
     "text": [
      "              precision    recall  f1-score   support\n",
      "\n",
      "           1       0.55      0.92      0.69       470\n",
      "           2       0.00      0.00      0.00       215\n",
      "           3       0.84      0.95      0.89       427\n",
      "           4       0.00      0.00      0.00       191\n",
      "           5       0.00      0.00      0.00       205\n",
      "           7       0.58      0.91      0.71       423\n",
      "\n",
      "    accuracy                           0.63      1931\n",
      "   macro avg       0.33      0.46      0.38      1931\n",
      "weighted avg       0.45      0.63      0.52      1931\n",
      "\n"
     ]
    },
    {
     "name": "stderr",
     "output_type": "stream",
     "text": [
      "C:\\Users\\tusha\\anaconda3\\lib\\site-packages\\sklearn\\metrics\\_classification.py:1318: UndefinedMetricWarning: Precision and F-score are ill-defined and being set to 0.0 in labels with no predicted samples. Use `zero_division` parameter to control this behavior.\n",
      "  _warn_prf(average, modifier, msg_start, len(result))\n",
      "C:\\Users\\tusha\\anaconda3\\lib\\site-packages\\sklearn\\metrics\\_classification.py:1318: UndefinedMetricWarning: Precision and F-score are ill-defined and being set to 0.0 in labels with no predicted samples. Use `zero_division` parameter to control this behavior.\n",
      "  _warn_prf(average, modifier, msg_start, len(result))\n",
      "C:\\Users\\tusha\\anaconda3\\lib\\site-packages\\sklearn\\metrics\\_classification.py:1318: UndefinedMetricWarning: Precision and F-score are ill-defined and being set to 0.0 in labels with no predicted samples. Use `zero_division` parameter to control this behavior.\n",
      "  _warn_prf(average, modifier, msg_start, len(result))\n"
     ]
    }
   ],
   "source": [
    "y_pred = clf.predict(X_test)\n",
    "print(classification_report(y_test,y_pred))"
   ]
  },
  {
   "cell_type": "code",
   "execution_count": 35,
   "id": "0a3d2f33",
   "metadata": {},
   "outputs": [],
   "source": [
    "#KNeighbors\n",
    "from sklearn.neighbors import KNeighborsClassifier"
   ]
  },
  {
   "cell_type": "code",
   "execution_count": 36,
   "id": "c25a9a82",
   "metadata": {},
   "outputs": [],
   "source": [
    "neigh = KNeighborsClassifier(n_neighbors=3)"
   ]
  },
  {
   "cell_type": "code",
   "execution_count": 41,
   "id": "ed5d923b",
   "metadata": {},
   "outputs": [
    {
     "data": {
      "text/plain": [
       "KNeighborsClassifier(n_neighbors=3)"
      ]
     },
     "execution_count": 41,
     "metadata": {},
     "output_type": "execute_result"
    }
   ],
   "source": [
    "neigh.fit(X_train, y_train)"
   ]
  },
  {
   "cell_type": "code",
   "execution_count": 45,
   "id": "a5f4159a",
   "metadata": {},
   "outputs": [
    {
     "name": "stdout",
     "output_type": "stream",
     "text": [
      "              precision    recall  f1-score   support\n",
      "\n",
      "           1       0.97      0.97      0.97       470\n",
      "           2       0.98      0.96      0.97       215\n",
      "           3       0.90      0.90      0.90       427\n",
      "           4       0.68      0.68      0.68       191\n",
      "           5       0.88      0.89      0.89       205\n",
      "           7       0.88      0.88      0.88       423\n",
      "\n",
      "    accuracy                           0.90      1931\n",
      "   macro avg       0.88      0.88      0.88      1931\n",
      "weighted avg       0.90      0.90      0.90      1931\n",
      "\n"
     ]
    },
    {
     "name": "stderr",
     "output_type": "stream",
     "text": [
      "C:\\Users\\tusha\\anaconda3\\lib\\site-packages\\sklearn\\neighbors\\_classification.py:228: FutureWarning: Unlike other reduction functions (e.g. `skew`, `kurtosis`), the default behavior of `mode` typically preserves the axis it acts along. In SciPy 1.11.0, this behavior will change: the default value of `keepdims` will become False, the `axis` over which the statistic is taken will be eliminated, and the value None will no longer be accepted. Set `keepdims` to True or False to avoid this warning.\n",
      "  mode, _ = stats.mode(_y[neigh_ind, k], axis=1)\n"
     ]
    }
   ],
   "source": [
    "y_pred = neigh.predict(X_test)\n",
    "print(classification_report(y_test,y_pred))"
   ]
  },
  {
   "cell_type": "code",
   "execution_count": 78,
   "id": "bcd70517",
   "metadata": {},
   "outputs": [],
   "source": [
    "\n",
    "#neural Network\n",
    "from sklearn.neural_network import MLPClassifier\n",
    "mlp_classifier  = MLPClassifier(random_state=123)"
   ]
  },
  {
   "cell_type": "code",
   "execution_count": 47,
   "id": "e7783046",
   "metadata": {},
   "outputs": [],
   "source": [
    "mlp=mlp_classifier.fit(X_train, y_train)"
   ]
  },
  {
   "cell_type": "code",
   "execution_count": 52,
   "id": "ce43222b",
   "metadata": {},
   "outputs": [
    {
     "name": "stdout",
     "output_type": "stream",
     "text": [
      "              precision    recall  f1-score   support\n",
      "\n",
      "           1       0.96      0.98      0.97       470\n",
      "           2       0.98      0.94      0.96       215\n",
      "           3       0.71      0.76      0.73       427\n",
      "           4       0.32      0.31      0.31       191\n",
      "           5       0.84      0.83      0.84       205\n",
      "           7       0.82      0.75      0.78       423\n",
      "\n",
      "    accuracy                           0.80      1931\n",
      "   macro avg       0.77      0.76      0.77      1931\n",
      "weighted avg       0.80      0.80      0.80      1931\n",
      "\n"
     ]
    }
   ],
   "source": [
    "y_pred = mlp.predict(X_test)\n",
    "print(classification_report(y_test,y_pred))"
   ]
  },
  {
   "cell_type": "code",
   "execution_count": 50,
   "id": "791f68d6",
   "metadata": {},
   "outputs": [],
   "source": [
    "#Gaussian Naive Bayes\n",
    "from sklearn.datasets import load_iris\n",
    "from sklearn.model_selection import train_test_split\n",
    "from sklearn.naive_bayes import GaussianNB"
   ]
  },
  {
   "cell_type": "code",
   "execution_count": 51,
   "id": "69ab28a5",
   "metadata": {},
   "outputs": [],
   "source": [
    "gnb = GaussianNB()\n",
    "gnb= gnb.fit(X_train, y_train)"
   ]
  },
  {
   "cell_type": "code",
   "execution_count": 53,
   "id": "4e96be40",
   "metadata": {},
   "outputs": [
    {
     "name": "stdout",
     "output_type": "stream",
     "text": [
      "              precision    recall  f1-score   support\n",
      "\n",
      "           1       0.89      0.78      0.83       470\n",
      "           2       0.99      0.88      0.93       215\n",
      "           3       0.92      0.87      0.89       427\n",
      "           4       0.49      0.67      0.57       191\n",
      "           5       0.53      0.74      0.61       205\n",
      "           7       0.85      0.76      0.80       423\n",
      "\n",
      "    accuracy                           0.79      1931\n",
      "   macro avg       0.78      0.78      0.77      1931\n",
      "weighted avg       0.82      0.79      0.80      1931\n",
      "\n"
     ]
    }
   ],
   "source": [
    "y_pred = gnb.predict(X_test)\n",
    "print(classification_report(y_test,y_pred))"
   ]
  },
  {
   "cell_type": "code",
   "execution_count": null,
   "id": "97c21f1c",
   "metadata": {},
   "outputs": [],
   "source": []
  }
 ],
 "metadata": {
  "kernelspec": {
   "display_name": "Python 3 (ipykernel)",
   "language": "python",
   "name": "python3"
  },
  "language_info": {
   "codemirror_mode": {
    "name": "ipython",
    "version": 3
   },
   "file_extension": ".py",
   "mimetype": "text/x-python",
   "name": "python",
   "nbconvert_exporter": "python",
   "pygments_lexer": "ipython3",
   "version": "3.9.13"
  }
 },
 "nbformat": 4,
 "nbformat_minor": 5
}
